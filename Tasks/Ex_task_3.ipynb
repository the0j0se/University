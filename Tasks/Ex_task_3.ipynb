{
  "cells": [
    {
      "cell_type": "markdown",
      "metadata": {
        "id": "view-in-github",
        "colab_type": "text"
      },
      "source": [
        "<a href=\"https://colab.research.google.com/github/the0j0se/University/blob/main/Tasks/Ex_task_3.ipynb\" target=\"_parent\"><img src=\"https://colab.research.google.com/assets/colab-badge.svg\" alt=\"Open In Colab\"/></a>"
      ]
    },
    {
      "cell_type": "markdown",
      "id": "bb332bf9",
      "metadata": {
        "id": "bb332bf9"
      },
      "source": [
        "# **Дополнительное задание №3. Обработка исключений и работа с текстовыми файлами**"
      ]
    },
    {
      "cell_type": "markdown",
      "id": "aa6808db",
      "metadata": {
        "id": "aa6808db"
      },
      "source": [
        "**БАЗА:**\n",
        "\n",
        "- **Обработка исключений** позволяет перехватывать и обрабатывать ошибки, возникающие при выполнении программы, предотвращая её аварийное завершение.\n",
        "- **Работа с файлами** - важный навык для чтения, записи и обработки текстовой информации в Python.\n",
        "\n",
        "---"
      ]
    },
    {
      "cell_type": "markdown",
      "id": "2478deca",
      "metadata": {
        "id": "2478deca"
      },
      "source": [
        "## **I. Обработка исключений**"
      ]
    },
    {
      "cell_type": "markdown",
      "id": "0ab0b851",
      "metadata": {
        "id": "0ab0b851"
      },
      "source": [
        "### **Пункт №1. Обработка некорректного индекса (IndexError)**"
      ]
    },
    {
      "cell_type": "markdown",
      "id": "46e69e1f",
      "metadata": {
        "id": "46e69e1f"
      },
      "source": [
        "Создайте список из нескольких элементов (например, [10, 20, 30]). Попросите пользователя ввести индекс элемента, который нужно вывести. Если пользователь введёт индекс, выходящий за границы списка, перехватите IndexError и сообщите об этом.\n",
        "\n",
        "**ОБЯЗАТЕЛЬНО:**\n",
        "- Создайте список из минимум 5 элементов\n",
        "- Покажите содержимое списка перед работой\n",
        "- Протестируйте минимум 4 случая (корректный индекс, отрицательный, слишком большой, нечисловое значение)"
      ]
    },
    {
      "cell_type": "code",
      "execution_count": 7,
      "id": "724c5954",
      "metadata": {
        "id": "724c5954",
        "outputId": "3b004b75-2b4f-4080-bd18-114670f79787",
        "colab": {
          "base_uri": "https://localhost:8080/"
        }
      },
      "outputs": [
        {
          "output_type": "stream",
          "name": "stdout",
          "text": [
            "Test 1\n",
            "[0, 73, 6, 71, 51, 94, 67, 2, 92, 54, 70, 37, 85, 11, 83, 94, 58, 67, 63, 14, 73, 53, 28, 87, 69]\n",
            "Индекс элемента: 5\n",
            "94\n",
            "Test 2\n",
            "[76, 63, 47, 17, 69, 43, 46, 86, 22, 83, 46, 94, 27, 12, 75, 86, 68, 34, 58, 66, 55, 30]\n",
            "Индекс элемента: -5\n",
            "34\n",
            "Test 3\n",
            "[2, 81, 44, 80, 25, 36, 30, 43, 59, 43, 86, 58, 27, 7, 66, 39]\n",
            "Индекс элемента: AAA\n",
            "invalid literal for int() with base 10: 'AAA'\n",
            "Test 4\n",
            "[88, 66, 49, 74, 1, 79, 45]\n",
            "Индекс элемента: 50\n",
            "list index out of range\n"
          ]
        }
      ],
      "source": [
        "import random\n",
        "\n",
        "def ran_lst() -> list[int]:\n",
        "    return [random.randint(0, 100) for _ in range(random.randint(5, 25))]\n",
        "\n",
        "def testing_func() -> None | Exception:\n",
        "    for i in range(1, 5):\n",
        "        print(f\"Test {i}\")\n",
        "        lst = ran_lst()\n",
        "        print(lst)\n",
        "        try:\n",
        "            print(lst[int(input(\"Индекс элемента: \"))])\n",
        "        except Exception as ex:\n",
        "            print(ex)\n",
        "\n",
        "if __name__ == \"__main__\":\n",
        "    testing_func()"
      ]
    },
    {
      "cell_type": "markdown",
      "id": "7ac84eec",
      "metadata": {
        "id": "7ac84eec"
      },
      "source": [
        "---"
      ]
    },
    {
      "cell_type": "markdown",
      "id": "f8bfb6e1",
      "metadata": {
        "id": "f8bfb6e1"
      },
      "source": [
        "### **Пункт №2. Обработка исключений в цикле**"
      ]
    },
    {
      "cell_type": "markdown",
      "id": "63c3b706",
      "metadata": {
        "id": "63c3b706"
      },
      "source": [
        "Напишите программу, которая запрашивает у пользователя числа и добавляет их в список.\n",
        "- Если пользователь вводит некорректные данные, программа должна выводить сообщение об ошибке и продолжать работу.\n",
        "- Для выхода из программы пользователь должен ввести \"стоп\".\n",
        "\n",
        "**ОБЯЗАТЕЛЬНО:**\n",
        "- Покажите процесс ввода минимум 7 значений (включая ошибочные)\n",
        "- Выведите финальный список и статистику (сколько чисел введено успешно, сколько ошибок)"
      ]
    },
    {
      "cell_type": "markdown",
      "source": [
        "\n",
        "\n",
        "```\n",
        "# Пример:\n",
        "# Введите число: 10\n",
        "# Введите число: текст (Ошибка: это не число)\n",
        "# Введите число: стоп\n",
        "# Итоговый список: [10]\n",
        "```\n",
        "\n"
      ],
      "metadata": {
        "id": "aiWaEPOuoHDS"
      },
      "id": "aiWaEPOuoHDS"
    },
    {
      "cell_type": "code",
      "execution_count": 3,
      "id": "31448e09",
      "metadata": {
        "id": "31448e09",
        "outputId": "d1f468e6-0f60-4247-e541-a137f0e6c4d8",
        "colab": {
          "base_uri": "https://localhost:8080/"
        }
      },
      "outputs": [
        {
          "output_type": "stream",
          "name": "stdout",
          "text": [
            "Введите число: gfsg\n",
            "Ошибка: это не число\n",
            "Введите число: аыпы\n",
            "Ошибка: это не число\n",
            "Введите число: пп44пп\n",
            "Ошибка: это не число\n",
            "Введите число: 342\n",
            "Введите число: 65\n",
            "Введите число: 0\n",
            "Введите число: 1\n",
            "Введите число: 999\n",
            "Введите число: ...\n",
            "Ошибка: это не число\n",
            "Введите число: стоп\n",
            "Итоговый список: [342, 65, 0, 1, 999]\n",
            "Успешно: 5\n",
            "Ошибок: 4\n"
          ]
        }
      ],
      "source": [
        "lst = []\n",
        "a = 0\n",
        "\n",
        "\n",
        "while True:\n",
        "    b = input(\"Введите число: \")\n",
        "    if b.isdigit():\n",
        "        lst.append(int(b))\n",
        "    elif b == \"стоп\":\n",
        "        break\n",
        "    else:\n",
        "        a += 1\n",
        "        print(Exception(\"Ошибка: это не число\"))\n",
        "\n",
        "print(f\"Итоговый список: {lst}\")\n",
        "print(f\"Успешно: {len(lst)}\")\n",
        "print(f\"Ошибок: {a}\")"
      ]
    },
    {
      "cell_type": "markdown",
      "metadata": {
        "id": "Yv-FNYTEp0vV"
      },
      "source": [
        "---"
      ],
      "id": "Yv-FNYTEp0vV"
    },
    {
      "cell_type": "markdown",
      "id": "5971f85d",
      "metadata": {
        "id": "5971f85d"
      },
      "source": [
        "### **Пункт №3**"
      ]
    },
    {
      "cell_type": "markdown",
      "id": "b1457074",
      "metadata": {
        "id": "b1457074"
      },
      "source": [
        "Создайте функцию `get_list_element(lst, index)`, которая безопасно извлекает элемент списка по индексу с использованием блоков `try`, `except`, `else` и `finally`.\n",
        "\n",
        "Функция должна:\n",
        "- Обрабатывать выход за пределы списка\n",
        "- Обрабатывать некорректный тип индекса\n",
        "- Выводить сообщение о попытке доступа в блоке `finally`\n",
        "\n",
        "**ОБЯЗАТЕЛЬНО:**\n",
        "- Выведите результаты для минимум 4 различных случаев (успешный доступ, выход за границы, отрицательный индекс, нечисловой индекс)\n",
        "- Покажите, что блок `finally` выполняется всегда\n",
        "\n",
        "```python\n",
        "# Пример использования:\n",
        "my_list = [1, 2, 3, 4, 5]\n",
        "get_list_element(my_list, 2)   # Вывод: \"Элемент: 3\", \"Попытка доступа завершена\"\n",
        "get_list_element(my_list, 10)  # Вывод: \"Индекс вне диапазона\", \"Попытка доступа завершена\"\n",
        "```"
      ]
    },
    {
      "cell_type": "code",
      "execution_count": 42,
      "id": "1c067cf3",
      "metadata": {
        "id": "1c067cf3",
        "outputId": "99eabd86-bd89-4a2d-bc2b-9fb45edfcafd",
        "colab": {
          "base_uri": "https://localhost:8080/"
        }
      },
      "outputs": [
        {
          "output_type": "stream",
          "name": "stdout",
          "text": [
            "Элемент: 2\n",
            "Попытка доступа завершена\n"
          ]
        }
      ],
      "source": [
        "def get_list_element(lst,index):\n",
        "  try:\n",
        "    a = lst[index]\n",
        "  except IndexError:\n",
        "    print('Индекс вне диапазона, ')\n",
        "  except TypeError:\n",
        "    print('Индекс не является числом, ')\n",
        "  else:\n",
        "    print(f'Элемент: {a}')\n",
        "  finally:\n",
        "    print('Попытка доступа завершена')\n",
        "a = [1,2,3,4,5]\n",
        "get_list_element(a,1)"
      ]
    },
    {
      "cell_type": "code",
      "source": [
        "def get_list_element(lst,index):\n",
        "  try:\n",
        "    a = lst[index]\n",
        "  except IndexError:\n",
        "    print('Индекс вне диапазона, ')\n",
        "  except TypeError:\n",
        "    print('Индекс не является числом, ')\n",
        "  else:\n",
        "    print(f'Элемент: {a}')\n",
        "  finally:\n",
        "    print('Попытка доступа завершена')\n",
        "a = [1,2,3,4,5]\n",
        "get_list_element(a,2)"
      ],
      "metadata": {
        "id": "lJmGjfRx5qta",
        "outputId": "507b767e-79d6-4d37-edbb-90a30aaa18b8",
        "colab": {
          "base_uri": "https://localhost:8080/"
        }
      },
      "id": "lJmGjfRx5qta",
      "execution_count": 43,
      "outputs": [
        {
          "output_type": "stream",
          "name": "stdout",
          "text": [
            "Элемент: 3\n",
            "Попытка доступа завершена\n"
          ]
        }
      ]
    },
    {
      "cell_type": "code",
      "source": [
        "def get_list_element(lst,index):\n",
        "  try:\n",
        "    a = lst[index]\n",
        "  except IndexError:\n",
        "    print('Индекс вне диапазона, ')\n",
        "  except TypeError:\n",
        "    print('Индекс не является числом, ')\n",
        "  else:\n",
        "    print(f'Элемент: {a}')\n",
        "  finally:\n",
        "    print('Попытка доступа завершена')\n",
        "a = [1,2,3,4,5]\n",
        "get_list_element(a,-3)"
      ],
      "metadata": {
        "id": "9o1DGISX5xH_",
        "outputId": "9ffd4334-dde1-4ee0-c4fe-7c85fd6edad8",
        "colab": {
          "base_uri": "https://localhost:8080/"
        }
      },
      "id": "9o1DGISX5xH_",
      "execution_count": 44,
      "outputs": [
        {
          "output_type": "stream",
          "name": "stdout",
          "text": [
            "Элемент: 3\n",
            "Попытка доступа завершена\n"
          ]
        }
      ]
    },
    {
      "cell_type": "code",
      "source": [
        "def get_list_element(lst,index):\n",
        "  try:\n",
        "    a = lst[index]\n",
        "  except IndexError:\n",
        "    print('Индекс вне диапазона, ')\n",
        "  except TypeError:\n",
        "    print('Индекс не является числом, ')\n",
        "  else:\n",
        "    print(f'Элемент: {a}')\n",
        "  finally:\n",
        "    print('Попытка доступа завершена')\n",
        "a = [1,2,3,4,5]\n",
        "get_list_element(a,'два')"
      ],
      "metadata": {
        "id": "YY7CD_vd5zCp",
        "outputId": "fab05eb2-97b5-49bd-f842-db2b541c52ff",
        "colab": {
          "base_uri": "https://localhost:8080/"
        }
      },
      "id": "YY7CD_vd5zCp",
      "execution_count": 45,
      "outputs": [
        {
          "output_type": "stream",
          "name": "stdout",
          "text": [
            "Индекс не является числом, \n",
            "Попытка доступа завершена\n"
          ]
        }
      ]
    },
    {
      "cell_type": "markdown",
      "id": "b5bb39c7",
      "metadata": {
        "id": "b5bb39c7"
      },
      "source": [
        "---"
      ]
    },
    {
      "cell_type": "markdown",
      "id": "b0972d59",
      "metadata": {
        "id": "b0972d59"
      },
      "source": [
        "## **II. Работа с текстовыми файлами**"
      ]
    },
    {
      "cell_type": "markdown",
      "id": "35729435",
      "metadata": {
        "id": "35729435"
      },
      "source": [
        "### **Пункт №1. Запись в файл**"
      ]
    },
    {
      "cell_type": "markdown",
      "id": "3121365f",
      "metadata": {
        "id": "3121365f"
      },
      "source": [
        "Напишите программу, которая запрашивает у пользователя строку и записывает её в файл output.txt в режиме дозаписи.\n",
        "\n",
        "**ОБЯЗАТЕЛЬНО:**\n",
        "- Запросите у пользователя минимум 3 строки\n",
        "- Покажите содержимое файла после записи"
      ]
    },
    {
      "cell_type": "code",
      "execution_count": 68,
      "id": "cbce6c5f",
      "metadata": {
        "id": "cbce6c5f",
        "outputId": "c8ce1fbd-bedc-4813-941c-87c16c37d17f",
        "colab": {
          "base_uri": "https://localhost:8080/"
        }
      },
      "outputs": [
        {
          "output_type": "stream",
          "name": "stdout",
          "text": [
            "Введите строку: миигаик\n",
            "Введите строку: лучший\n",
            "Введите строку: вуз\n",
            "Введите строку: страны\n",
            "Введите строку: стоп\n",
            "миигаик\n",
            "лучший\n",
            "вуз\n",
            "страны\n",
            "\n"
          ]
        }
      ],
      "source": [
        "with open('output.txt', 'a', encoding='utf-8') as file:\n",
        "    while True:\n",
        "        m = input(f\"Введите строку: \").strip()\n",
        "\n",
        "        if m.lower() == 'стоп':\n",
        "            break\n",
        "\n",
        "        file.write(m + '\\n')\n",
        "try:\n",
        "    with open('output.txt', 'r', encoding='utf-8') as file:\n",
        "        abs = file.read()\n",
        "        if abs:\n",
        "            print(abs)\n",
        "        else:\n",
        "            print(\"Файл пуст\")\n",
        "except FileNotFoundError:\n",
        "    print(\"Файл не найден\")"
      ]
    },
    {
      "cell_type": "markdown",
      "id": "361b3d2b",
      "metadata": {
        "id": "361b3d2b"
      },
      "source": [
        "---"
      ]
    },
    {
      "cell_type": "markdown",
      "id": "cce864b4",
      "metadata": {
        "id": "cce864b4"
      },
      "source": [
        "### **Пункт №2. Чтение из файла**"
      ]
    },
    {
      "cell_type": "markdown",
      "id": "4fc83b82",
      "metadata": {
        "id": "4fc83b82"
      },
      "source": [
        "Напишите программу, которая открывает файл output.txt и выводит его содержимое на экран.\n",
        "\n",
        "**ОБЯЗАТЕЛЬНО:**\n",
        "- Создайте файл с минимум 5 строками текста\n",
        "- Покажите содержимое файла целиком\n",
        "- Обработайте случай отсутствующего файла"
      ]
    },
    {
      "cell_type": "code",
      "execution_count": 70,
      "id": "df27a986",
      "metadata": {
        "id": "df27a986",
        "outputId": "12bc46d1-ed20-4cea-ed3a-be73fefad0a2",
        "colab": {
          "base_uri": "https://localhost:8080/"
        }
      },
      "outputs": [
        {
          "output_type": "stream",
          "name": "stdout",
          "text": [
            "sdfsdfsd\n",
            "fgfdgdfg\n",
            "fsdfsdfsdfsdg\n",
            "gsgdsgsdg\n",
            "hgfdhdffd\n",
            "стоп\n",
            "stop\n",
            "fdsfsdf\n",
            "\n",
            "fdggdfgdfgdfg\n",
            "hdhfgsgs\n",
            "sdgcvfg\n",
            "gfgsdgds\n",
            "gdfgdvbg\n",
            "hfghfg\n",
            "dasds\n",
            "xbcx\n",
            "gdsgfdgdsfg\n",
            "gdgfdbvc\n",
            "hgfhgfhg\n",
            "fdsfsdfc\n",
            "hfghn\n",
            "hjghm\n",
            "gfdgfvb\n",
            "nhnfgf\n",
            "dsvcxb\n",
            "hgmhgmgh\n",
            "ananas\n",
            "???\n",
            "aboba\n",
            " super puper\n",
            "purple\n",
            "stop\n",
            "op\n",
            "who\n",
            "can\n",
            "cat\n",
            "ананас\n",
            "шкаф\n",
            "компьютер\n",
            "стол\n",
            "шкаф\n",
            "эльбрус\n",
            "гора\n",
            "небо\n",
            "гора\n",
            "стол\n",
            "шкаф\n",
            "компьютер\n"
          ]
        }
      ],
      "source": [
        "f = open('output.txt', 'r')\n",
        "for i in f.readlines():\n",
        "  print(i, end = '')\n",
        "f.close()\n"
      ]
    },
    {
      "cell_type": "markdown",
      "id": "2be296a2",
      "metadata": {
        "id": "2be296a2"
      },
      "source": [
        "---"
      ]
    },
    {
      "cell_type": "markdown",
      "id": "045696ba",
      "metadata": {
        "id": "045696ba"
      },
      "source": [
        "### **Пункт №3. Подсчет строк в файле**"
      ]
    },
    {
      "cell_type": "markdown",
      "id": "570ac3e9",
      "metadata": {
        "id": "570ac3e9"
      },
      "source": [
        "Напишите программу, которая открывает файл output.txt и подсчитывает количество строк в нём.\n",
        "\n",
        "**ОБЯЗАТЕЛЬНО:**\n",
        "- Создайте тестовый файл с известным количеством строк (минимум 10)\n",
        "- Покажите первые 3 строки файла\n",
        "- Выведите общее количество строк\n",
        "- Выведите количество непустых строк"
      ]
    },
    {
      "cell_type": "code",
      "execution_count": 71,
      "id": "84aa205a",
      "metadata": {
        "id": "84aa205a",
        "outputId": "61ca457c-9a40-4ce1-c39e-808d178134fd",
        "colab": {
          "base_uri": "https://localhost:8080/"
        }
      },
      "outputs": [
        {
          "output_type": "stream",
          "name": "stdout",
          "text": [
            "sdfsdfsd\n",
            "fgfdgdfg\n",
            "fsdfsdfsdfsdg\n",
            "Всего строк в файле: 50\n",
            "Непустых строк: 48\n"
          ]
        }
      ],
      "source": [
        "with open('output.txt', 'r', encoding='utf-8') as file:\n",
        "  lines = file.readlines()\n",
        "  tri = file.readlines()[:3]\n",
        "  nepusto = [x for x in lines if x.strip()]\n",
        "  for i in range(3):\n",
        "    print(lines[i].rstrip())\n",
        "  print(f\"Всего строк в файле: {len(lines)+1}\")\n",
        "  print(f\"Непустых строк: {len(nepusto)}\")"
      ]
    },
    {
      "cell_type": "markdown",
      "id": "94c6dcb0",
      "metadata": {
        "id": "94c6dcb0"
      },
      "source": [
        "---"
      ]
    },
    {
      "cell_type": "markdown",
      "id": "56f2a74e",
      "metadata": {
        "id": "56f2a74e"
      },
      "source": [
        "### **Пункт №4. Копирование содержимого файла**"
      ]
    },
    {
      "cell_type": "markdown",
      "id": "ed736046",
      "metadata": {
        "id": "ed736046"
      },
      "source": [
        "Напишите программу, которая копирует содержимое файла input.txt в файл output.txt.\n",
        "\n",
        "**ОБЯЗАТЕЛЬНО:**\n",
        "- Создайте исходный файл с тестовым содержимым (минимум 5 строк)\n",
        "- Покажите содержимое исходного файла\n",
        "- Выполните копирование\n",
        "- Покажите содержимое скопированного файла\n",
        "- Обработайте случай отсутствия исходного файла"
      ]
    },
    {
      "cell_type": "code",
      "execution_count": 72,
      "id": "31bd8a06",
      "metadata": {
        "id": "31bd8a06",
        "outputId": "6c79c279-fc69-414d-eee3-9c2a19d0f46c",
        "colab": {
          "base_uri": "https://localhost:8080/"
        }
      },
      "outputs": [
        {
          "output_type": "stream",
          "name": "stdout",
          "text": [
            "input\n",
            "миигаик\n",
            "лучший\n",
            "вуз\n",
            "страны\n",
            "\n",
            "sdfsdfsd\n",
            "fgfdgdfg\n",
            "fsdfsdfsdfsdg\n",
            "gsgdsgsdg\n",
            "hgfdhdffd\n",
            "стоп\n",
            "stop\n",
            "fdsfsdf\n",
            "\n",
            "fdggdfgdfgdfg\n",
            "hdhfgsgs\n",
            "sdgcvfg\n",
            "gfgsdgds\n",
            "gdfgdvbg\n",
            "hfghfg\n",
            "dasds\n",
            "xbcx\n",
            "gdsgfdgdsfg\n",
            "gdgfdbvc\n",
            "hgfhgfhg\n",
            "fdsfsdfc\n",
            "hfghn\n",
            "hjghm\n",
            "gfdgfvb\n",
            "nhnfgf\n",
            "dsvcxb\n",
            "hgmhgmgh\n",
            "ananas\n",
            "???\n",
            "aboba\n",
            " super puper\n",
            "purple\n",
            "stop\n",
            "op\n",
            "who\n",
            "can\n",
            "cat\n",
            "ананас\n",
            "шкаф\n",
            "компьютер\n",
            "стол\n",
            "шкаф\n",
            "эльбрус\n",
            "гора\n",
            "небо\n",
            "гора\n",
            "стол\n",
            "шкаф\n",
            "компьютер\n",
            "\n"
          ]
        }
      ],
      "source": [
        "a = input()\n",
        "try:\n",
        "  with open(f'{a}.txt', 'r', encoding='utf-8') as file:\n",
        "    m = file.read()\n",
        "    print(m)\n",
        "  with open('output.txt', 'r', encoding='utf-8') as file:\n",
        "    content = file.read()\n",
        "  with open('output.txt', 'a', encoding='utf-8') as file:\n",
        "    z = file.write(m)\n",
        "    print(content)\n",
        "except FileNotFoundError:\n",
        "  print('Файл не найден')"
      ]
    },
    {
      "cell_type": "code",
      "source": [
        "a = input()\n",
        "try:\n",
        "  with open(f'{a}.txt', 'r', encoding='utf-8') as file:\n",
        "    m = file.read()\n",
        "    print(m)\n",
        "  with open('output.txt', 'r', encoding='utf-8') as file:\n",
        "    content = file.read()\n",
        "  with open('output.txt', 'a', encoding='utf-8') as file:\n",
        "    z = file.write(m)\n",
        "    print(content)\n",
        "except FileNotFoundError:\n",
        "  print('Файл не найден')"
      ],
      "metadata": {
        "id": "Ao3_D6v3EH98",
        "outputId": "d2f68849-83fd-430d-939b-a1024141f5c3",
        "colab": {
          "base_uri": "https://localhost:8080/"
        }
      },
      "id": "Ao3_D6v3EH98",
      "execution_count": 73,
      "outputs": [
        {
          "output_type": "stream",
          "name": "stdout",
          "text": [
            "putput\n",
            "Файл не найден\n"
          ]
        }
      ]
    },
    {
      "cell_type": "markdown",
      "id": "2f7c8ee5",
      "metadata": {
        "id": "2f7c8ee5"
      },
      "source": [
        "---"
      ]
    },
    {
      "cell_type": "markdown",
      "id": "70ee398b",
      "metadata": {
        "id": "70ee398b"
      },
      "source": [
        "### **Пункт №5. Поиск слова в файле**"
      ]
    },
    {
      "cell_type": "markdown",
      "id": "c67f8987",
      "metadata": {
        "id": "c67f8987"
      },
      "source": [
        "Напишите программу, которая открывает файл output.txt и проверяет, содержится ли в нём слово, введённое пользователем.\n",
        "\n",
        "**ОБЯЗАТЕЛЬНО:**\n",
        "- Создайте файл с минимум 10 строками текста\n",
        "- Покажите содержимое файла\n",
        "- Протестируйте поиск минимум 5 различных слов\n",
        "- Выведите номера строк, где найдено слово\n",
        "- Покажите количество вхождений слова"
      ]
    },
    {
      "cell_type": "code",
      "execution_count": 27,
      "id": "d961bbf3",
      "metadata": {
        "id": "d961bbf3",
        "outputId": "7a893da8-3cca-4b42-d3ea-fd0d9ddf9442",
        "colab": {
          "base_uri": "https://localhost:8080/"
        }
      },
      "outputs": [
        {
          "output_type": "stream",
          "name": "stdout",
          "text": [
            "sdfsdfsd\n",
            "fgfdgdfg\n",
            "fsdfsdfsdfsdg\n",
            "gsgdsgsdg\n",
            "hgfdhdffd\n",
            "стоп\n",
            "stop\n",
            "fdsfsdf\n",
            "\n",
            "fdggdfgdfgdfg\n",
            "hdhfgsgs\n",
            "sdgcvfg\n",
            "gfgsdgds\n",
            "gdfgdvbg\n",
            "hfghfg\n",
            "dasds\n",
            "xbcx\n",
            "gdsgfdgdsfg\n",
            "gdgfdbvc\n",
            "hgfhgfhg\n",
            "fdsfsdfc\n",
            "hfghn\n",
            "hjghm\n",
            "gfdgfvb\n",
            "nhnfgf\n",
            "dsvcxb\n",
            "hgmhgmgh\n",
            "ananas\n",
            "???\n",
            "aboba\n",
            " super puper\n",
            "purple\n",
            "stop\n",
            "op\n",
            "who\n",
            "can\n",
            "cat\n",
            "cat\n",
            "found at:  [37]\n",
            "total:  1\n",
            "cot\n",
            "not found:  cot\n",
            "stop\n",
            "found at:  [7, 33]\n",
            "total:  2\n",
            "?\n",
            "not found:  ?\n",
            "op\n",
            "found at:  [7, 33, 34]\n",
            "total:  1\n"
          ]
        }
      ],
      "source": [
        "f = open('output.txt', 'r')\n",
        "for i in f.readlines(): print(i, end='')\n",
        "f.seek(0)\n",
        "o = f.read().replace('\\n', ' ').split(' ')\n",
        "f.seek(0)\n",
        "o2 = f.read().split('\\n')\n",
        "f.close()\n",
        "\n",
        "for i in range(5):\n",
        "  w = input()\n",
        "  if not o.count(w):\n",
        "    print('not found: ', w)\n",
        "  else:\n",
        "    print('found at: ', [i+1 for i in range(len(o2)) if o2[i].count(w)])\n",
        "    print('total: ', o.count(w))"
      ]
    },
    {
      "cell_type": "markdown",
      "id": "8d69c77a",
      "metadata": {
        "id": "8d69c77a"
      },
      "source": [
        "---"
      ]
    },
    {
      "cell_type": "markdown",
      "id": "0079e067",
      "metadata": {
        "id": "0079e067"
      },
      "source": [
        "### **Пункт №6. Чтение файла с обработкой FileNotFoundError**"
      ]
    },
    {
      "cell_type": "markdown",
      "id": "c3d27312",
      "metadata": {
        "id": "c3d27312"
      },
      "source": [
        "Напишите программу, которая запрашивает у пользователя имя файла и пытается открыть его. Если файла не существует, перехватите FileNotFoundError и выведите сообщение «Файл не найден!».\n",
        "\n",
        "**ОБЯЗАТЕЛЬНО:**\n",
        "- Протестируйте с существующим файлом\n",
        "- Протестируйте с несуществующим файлом\n",
        "- Покажите содержимое существующего файла"
      ]
    },
    {
      "cell_type": "code",
      "execution_count": 28,
      "id": "0c262bd2",
      "metadata": {
        "id": "0c262bd2",
        "outputId": "92ec4222-6c90-4fff-a26e-7171481d2875",
        "colab": {
          "base_uri": "https://localhost:8080/"
        }
      },
      "outputs": [
        {
          "output_type": "stream",
          "name": "stdout",
          "text": [
            "?????????\n",
            "file not found\n",
            "output.txt\n",
            "sdfsdfsd\n",
            "fgfdgdfg\n",
            "fsdfsdfsdfsdg\n",
            "gsgdsgsdg\n",
            "hgfdhdffd\n",
            "стоп\n",
            "stop\n",
            "fdsfsdf\n",
            "\n",
            "fdggdfgdfgdfg\n",
            "hdhfgsgs\n",
            "sdgcvfg\n",
            "gfgsdgds\n",
            "gdfgdvbg\n",
            "hfghfg\n",
            "dasds\n",
            "xbcx\n",
            "gdsgfdgdsfg\n",
            "gdgfdbvc\n",
            "hgfhgfhg\n",
            "fdsfsdfc\n",
            "hfghn\n",
            "hjghm\n",
            "gfdgfvb\n",
            "nhnfgf\n",
            "dsvcxb\n",
            "hgmhgmgh\n",
            "ananas\n",
            "???\n",
            "aboba\n",
            " super puper\n",
            "purple\n",
            "stop\n",
            "op\n",
            "who\n",
            "can\n",
            "cat\n"
          ]
        }
      ],
      "source": [
        "for n in range(2):\n",
        "  name = input()\n",
        "  try:\n",
        "    j = open(name, 'r')\n",
        "  except FileNotFoundError:\n",
        "    print('file not found')\n",
        "  else:\n",
        "    for n in j.readlines():\n",
        "      print(n, end ='')"
      ]
    },
    {
      "cell_type": "markdown",
      "id": "c3258b46",
      "metadata": {
        "id": "c3258b46"
      },
      "source": [
        "---"
      ]
    },
    {
      "cell_type": "markdown",
      "id": "02e0767b",
      "metadata": {
        "id": "02e0767b"
      },
      "source": [
        "### **Пункт №7. Подсчет статистики файла**"
      ]
    },
    {
      "cell_type": "markdown",
      "id": "1c33b711",
      "metadata": {
        "id": "1c33b711"
      },
      "source": [
        "Напишите функцию `file_statistics(filename)`, которая читает текстовый файл и возвращает словарь со статистикой:\n",
        "- Количество строк\n",
        "- Количество слов\n",
        "- Количество символов (с пробелами и без)\n",
        "\n",
        "**ОБЯЗАТЕЛЬНО:**\n",
        "- Создайте тестовый файл с минимум 5 строками текста\n",
        "- Выведите содержимое файла ДО обработки\n",
        "- Выведите полученную статистику\n",
        "- Обработайте случай несуществующего файла\n",
        "\n",
        "```python\n",
        "# Создание тестового файла\n",
        "test_content = \"\"\"Первая строка текста\n",
        "Вторая строка с большим количеством слов\n",
        "Третья строка\n",
        "Четвертая строка для теста\n",
        "Пятая и последняя строка\"\"\"\n",
        "\n",
        "# Сохраните в файл и продемонстрируйте работу\n",
        "```"
      ]
    },
    {
      "cell_type": "code",
      "execution_count": 54,
      "id": "43bfd6b8",
      "metadata": {
        "id": "43bfd6b8",
        "outputId": "33847e5f-5636-4c45-f210-1d96201217c4",
        "colab": {
          "base_uri": "https://localhost:8080/"
        }
      },
      "outputs": [
        {
          "output_type": "stream",
          "name": "stdout",
          "text": [
            "Первая строка текста\n",
            "Вторая строка с большим количеством слов\n",
            "Третья строка\n",
            "Четвертая строка для теста\n",
            "Пятая и последняя строка\n",
            "Количество строк: 5\n",
            "Количество слов: 19\n",
            "Количество символов (с пробелами): 127\n",
            "Количество символов (без пробелов): 109\n"
          ]
        }
      ],
      "source": [
        "test_content = \"\"\"Первая строка текста\n",
        "Вторая строка с большим количеством слов\n",
        "Третья строка\n",
        "Четвертая строка для теста\n",
        "Пятая и последняя строка\"\"\"\n",
        "\n",
        "with open('xd.txt', 'w', encoding='utf-8') as f:\n",
        "    f.write(test_content)\n",
        "\n",
        "with open('xd.txt', 'r', encoding='utf-8') as f:\n",
        "    print(f.read())\n",
        "\n",
        "\n",
        "def file_statistics(filename):\n",
        "    a = {'Количество строк': 0,'Количество слов': 0,'Количество символов (с пробелами)': 0,'Количество символов (без пробелов)': 0}\n",
        "    try:\n",
        "        with open(filename, 'r', encoding='utf-8') as file:\n",
        "            for line in file:\n",
        "                a['Количество строк'] += 1\n",
        "                a['Количество символов (с пробелами)'] += len(line)\n",
        "                a['Количество символов (без пробелов)'] += len(line.replace(\" \", \"\").strip())\n",
        "                words = line.split()\n",
        "                a['Количество слов'] += len(words)\n",
        "        return a\n",
        "    except FileNotFoundError:\n",
        "        return f\"Файл '{filename}' не найден!\"\n",
        "\n",
        "b = file_statistics('xd.txt')\n",
        "if isinstance(b, dict):\n",
        "    for key, value in b.items():\n",
        "        print(f\"{key}: {value}\")\n",
        "else:\n",
        "    print(b)"
      ]
    },
    {
      "cell_type": "code",
      "source": [
        "test_content = \"\"\"Первая строка текста\n",
        "Вторая строка с большим количеством слов\n",
        "Третья строка\n",
        "Четвертая строка для теста\n",
        "Пятая и последняя строка\"\"\"\n",
        "\n",
        "with open('xd.txt', 'w', encoding='utf-8') as f:\n",
        "    f.write(test_content)\n",
        "\n",
        "with open('xd.txt', 'r', encoding='utf-8') as f:\n",
        "    print(f.read())\n",
        "\n",
        "\n",
        "def file_statistics(filename):\n",
        "    a = {'Количество строк': 0,'Количество слов': 0,'Количество символов (с пробелами)': 0,'Количество символов (без пробелов)': 0}\n",
        "    try:\n",
        "        with open(filename, 'r', encoding='utf-8') as file:\n",
        "            for line in file:\n",
        "                a['Количество строк'] += 1\n",
        "                a['Количество символов (с пробелами)'] += len(line)\n",
        "                a['Количество символов (без пробелов)'] += len(line.replace(\" \", \"\").strip())\n",
        "                words = line.split()\n",
        "                a['Количество слов'] += len(words)\n",
        "        return a\n",
        "    except FileNotFoundError:\n",
        "        return f\"Файл '{filename}' не найден!\"\n",
        "\n",
        "b = file_statistics('342432.txt')\n",
        "print(b)"
      ],
      "metadata": {
        "id": "VCz1yyDX7Dy-",
        "outputId": "d0745cbc-5579-43f7-a593-43d2667d9e9f",
        "colab": {
          "base_uri": "https://localhost:8080/"
        }
      },
      "id": "VCz1yyDX7Dy-",
      "execution_count": 55,
      "outputs": [
        {
          "output_type": "stream",
          "name": "stdout",
          "text": [
            "Первая строка текста\n",
            "Вторая строка с большим количеством слов\n",
            "Третья строка\n",
            "Четвертая строка для теста\n",
            "Пятая и последняя строка\n",
            "Файл '342432.txt' не найден!\n"
          ]
        }
      ]
    },
    {
      "cell_type": "markdown",
      "id": "903281dd",
      "metadata": {
        "id": "903281dd"
      },
      "source": [
        "---"
      ]
    },
    {
      "cell_type": "markdown",
      "id": "ad8b4ae4",
      "metadata": {
        "id": "ad8b4ae4"
      },
      "source": [
        "### **Пункт №8. Поиск и замена в файле**"
      ]
    },
    {
      "cell_type": "markdown",
      "id": "e5230d0a",
      "metadata": {
        "id": "e5230d0a"
      },
      "source": [
        "Напишите функцию `replace_in_file(filename, old_text, new_text)`, которая заменяет все вхождения `old_text` на `new_text` в файле и сохраняет результат в новый файл с префиксом \"modified_\".\n",
        "\n",
        "**ОБЯЗАТЕЛЬНО:**\n",
        "- Создайте файл с текстом, содержащим минимум 3 вхождения заменяемого слова\n",
        "- Выведите содержимое файла ДО замены\n",
        "- Выполните замену\n",
        "- Выведите содержимое файла ПОСЛЕ замены\n",
        "- Покажите количество произведенных замен"
      ]
    },
    {
      "cell_type": "code",
      "execution_count": 57,
      "id": "64a05e35",
      "metadata": {
        "id": "64a05e35",
        "outputId": "0a9c1998-93c8-4e3b-bed1-175f511ce2b6",
        "colab": {
          "base_uri": "https://localhost:8080/"
        }
      },
      "outputs": [
        {
          "output_type": "stream",
          "name": "stdout",
          "text": [
            "МИИГАИК ЛУЧШИЙ ВУЗ, АЭТО ЗНАЕТ ДАЖЕ ГУЗ\n",
            "Произведено замен: 1\n",
            "МИИГАИК ЛУЧШИЙ ВУЗ, ЭТО ЗНАЕТ ДАЖЕ ГУЗ\n"
          ]
        }
      ],
      "source": [
        "def replace_in_file(filename, old_text, new_text):\n",
        "    try:\n",
        "        with open(filename, 'r', encoding='utf-8') as file:\n",
        "            m = file.read()\n",
        "        modified_m = m.replace(old_text, new_text)\n",
        "        perestanovka = m.count(old_text)\n",
        "        modified_filename = \"modified_\" + filename\n",
        "        with open(modified_filename, 'w', encoding='utf-8') as file:\n",
        "            file.write(modified_m)\n",
        "        return perestanovka, modified_filename\n",
        "    except FileNotFoundError:\n",
        "        return 0, f\"Файл '{filename}' не найден!\"\n",
        "test_text = \"МИИГАИК ЛУЧШИЙ ВУЗ, АЭТО ЗНАЕТ ДАЖЕ ГУЗ\"\n",
        "tekst = \"replace_test.txt\"\n",
        "with open(tekst, 'w', encoding='utf-8') as f:\n",
        "    f.write(test_text)\n",
        "with open(tekst, 'r', encoding='utf-8') as f:\n",
        "    print(f.read())\n",
        "old_word = \"АЭТО\"\n",
        "new_word = \"ЭТО\"\n",
        "count, modified_file = replace_in_file(tekst, old_word, new_word)\n",
        "if isinstance(count, int):\n",
        "    print(f\"Произведено замен: {count}\")\n",
        "    with open(modified_file, 'r', encoding='utf-8') as f:\n",
        "        print(f.read())\n",
        "else:\n",
        "    print(modified_file)"
      ]
    },
    {
      "cell_type": "markdown",
      "id": "f77b0568",
      "metadata": {
        "id": "f77b0568"
      },
      "source": [
        "---"
      ]
    },
    {
      "cell_type": "markdown",
      "id": "79a081b1",
      "metadata": {
        "id": "79a081b1"
      },
      "source": [
        "### **Пункт №9. Объединение файлов**"
      ]
    },
    {
      "cell_type": "markdown",
      "id": "599cee3c",
      "metadata": {
        "id": "599cee3c"
      },
      "source": [
        "Создайте функцию `merge_files(file_list, output_file)`, которая объединяет содержимое нескольких текстовых файлов в один, добавляя после каждого разделитель.\n",
        "\n",
        "**ОБЯЗАТЕЛЬНО:**\n",
        "- Создайте минимум 3 файла с разным содержимым\n",
        "- Выведите содержимое КАЖДОГО исходного файла\n",
        "- Выполните объединение\n",
        "- Выведите содержимое результирующего файла"
      ]
    },
    {
      "cell_type": "code",
      "execution_count": 60,
      "id": "581b5868",
      "metadata": {
        "id": "581b5868",
        "outputId": "d7809879-fb55-4230-b3e3-291a6b820049",
        "colab": {
          "base_uri": "https://localhost:8080/"
        }
      },
      "outputs": [
        {
          "output_type": "stream",
          "name": "stdout",
          "text": [
            "МИИГАИК\n",
            "ЛУЧШИЙ\n",
            "ВУЗ\n",
            "Файлы успешно объединены в 'ugabuga.txt'\n",
            "МИИГАИК$$ЛУЧШИЙ$$ВУЗ\n"
          ]
        }
      ],
      "source": [
        "def merge_files(file_list, output_file, separator=\"$$\"):\n",
        "  with open(output_file, 'w', encoding='utf-8') as f:\n",
        "    for i, filename in enumerate(file_list):\n",
        "      with open(filename, 'r', encoding='utf-8') as m:\n",
        "        f.write(m.read())\n",
        "      if i < len(file_list) - 1:\n",
        "        f.write(separator)\n",
        "  return f\"Файлы успешно объединены в '{output_file}'\"\n",
        "\n",
        "file1 = \"МИИГАИК\"\n",
        "file2 = \"ЛУЧШИЙ\"\n",
        "file3 = \"ВУЗ\"\n",
        "\n",
        "with open('file1.txt', 'w+', encoding='utf-8') as f:\n",
        "    f.write(file1)\n",
        "    f.seek(0)\n",
        "    a = f.read()\n",
        "    print(a)\n",
        "with open('file2.txt', 'w+', encoding='utf-8') as f:\n",
        "    f.write(file2)\n",
        "    f.seek(0)\n",
        "    a = f.read()\n",
        "    print(a)\n",
        "with open('file3.txt', 'w+', encoding='utf-8') as f:\n",
        "    f.write(file3)\n",
        "    f.seek(0)\n",
        "    a = f.read()\n",
        "    print(a)\n",
        "\n",
        "a = ['file1.txt', 'file2.txt', 'file3.txt']\n",
        "b = 'ugabuga.txt'\n",
        "result_message = merge_files(a, b)\n",
        "print(result_message)\n",
        "try:\n",
        "    with open(b, 'r', encoding='utf-8') as f:\n",
        "        print(f.read())\n",
        "except FileNotFoundError:\n",
        "    print(f\"Файл '{b}' не найден.\")"
      ]
    },
    {
      "cell_type": "markdown",
      "id": "eb866091",
      "metadata": {
        "id": "eb866091"
      },
      "source": [
        "---"
      ]
    }
  ],
  "metadata": {
    "colab": {
      "provenance": [],
      "include_colab_link": true
    },
    "language_info": {
      "name": "python"
    },
    "kernelspec": {
      "name": "python3",
      "display_name": "Python 3"
    }
  },
  "nbformat": 4,
  "nbformat_minor": 5
}